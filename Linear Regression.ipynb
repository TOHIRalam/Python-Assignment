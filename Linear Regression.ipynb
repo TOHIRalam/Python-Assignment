{
 "cells": [
  {
   "cell_type": "code",
   "execution_count": 3,
   "metadata": {
    "scrolled": true
   },
   "outputs": [
    {
     "name": "stdout",
     "output_type": "stream",
     "text": [
      "Enter the number of elements you want for x:5\n",
      "Enter numbers in x:\n",
      "number:61\n",
      "number:62\n",
      "number:63\n",
      "number:64\n",
      "number:65\n",
      "Enter the number of elements you want for y:5\n",
      "enter number in y\n",
      "number:66\n",
      "number:67\n",
      "number:68\n",
      "number:82\n",
      "number:99\n",
      "Estimated coefficients:\n",
      "x = -9.553522567267033 \n",
      "y = 6.353290596237135\n"
     ]
    },
    {
     "data": {
      "image/png": "[encoded data removed]",
      "text/plain": [
       "<Figure size 432x288 with 1 Axes>"
      ]
     },
     "metadata": {
      "needs_background": "light"
     },
     "output_type": "display_data"
    }
   ],
   "source": [
    "import numpy as np \n",
    "import matplotlib.pyplot as plt \n",
    "import math\n",
    "\n",
    "def getX():\n",
    "  number_array = list()\n",
    "  number = input(\"Enter the number of elements you want for x:\")\n",
    "  print('Enter numbers in x:')\n",
    "  for i in range(int(number)):\n",
    "    n = int(input(\"number:\"))\n",
    "    n = math.log10(n)\n",
    "    number_array.append(float(n))\n",
    "\n",
    "  return number_array\n",
    "\n",
    "def getY():\n",
    "  number_array = list()\n",
    "  number = input(\"Enter the number of elements you want for y:\")\n",
    "  print(\"enter number in y\")\n",
    "  for i in range(int(number)):\n",
    "    n = int(input(\"number:\"))\n",
    "    n = math.log10(n)\n",
    "    number_array.append(float(n))\n",
    "  return number_array\n",
    "\n",
    "def estimate_coef(x, y): \n",
    "\t# number of observations/points \n",
    "\tn = np.size(x) \n",
    "\n",
    "\t# mean of x and y vector \n",
    "\tm_x, m_y = np.mean(x), np.mean(y) \n",
    "\n",
    "\t# calculating cross-deviation and deviation about x \n",
    "\tSS_xy = np.sum(y*x) - n*m_y*m_x \n",
    "\tSS_xx = np.sum(x*x) - n*m_x*m_x \n",
    "\n",
    "\t# calculating regression coefficients \n",
    "\ty = SS_xy / SS_xx \n",
    "\tx = m_y - y*m_x \n",
    "\n",
    "\treturn(x, y) \n",
    "\n",
    "def plot_regression_line(x, y, b): \n",
    "\t# plotting the actual points as scatter plot \n",
    "\tplt.scatter(x, y, color = \"m\", \n",
    "\t\t\tmarker = \"o\", s = 30) \n",
    "\n",
    "\t# predicted response vector \n",
    "\ty_pred = b[0] + b[1]*x \n",
    "\n",
    "\t# plotting the regression line \n",
    "\tplt.plot(x, y_pred, color = \"g\") \n",
    "\n",
    "\t# putting labels \n",
    "\tplt.xlabel('x') \n",
    "\tplt.ylabel('y') \n",
    "\t# function to show plot \n",
    "\tplt.show() \n",
    "\n",
    "#x = [65, 63, 67, 64, 68, 62, 70, 66, 68, 67, 69, 71]\n",
    "#y = [68, 66, 68, 65, 69, 66, 68, 65, 71, 67, 68, 70]\n",
    "\n",
    "# input user's data\n",
    "x = np.array(getX()) \n",
    "y = np.array(getY())\t\n",
    "\n",
    "# estimating coefficients \n",
    "b = estimate_coef(x, y) \n",
    "print(\"Estimated coefficients:\\nx = {} \\ny = {}\".format(b[0], b[1])) \n",
    "\t\n",
    "# plotting regression line \n",
    "plot_regression_line(x, y, b)  "
   ]
  },
  {
   "cell_type": "code",
   "execution_count": null,
   "metadata": {},
   "outputs": [],
   "source": []
  }
 ],
 "metadata": {
  "kernelspec": {
   "display_name": "Python 3",
   "language": "python",
   "name": "python3"
  },
  "language_info": {
   "codemirror_mode": {
    "name": "ipython",
    "version": 3
   },
   "file_extension": ".py",
   "mimetype": "text/x-python",
   "name": "python",
   "nbconvert_exporter": "python",
   "pygments_lexer": "ipython3",
   "version": "3.7.1"
  }
 },
 "nbformat": 4,
 "nbformat_minor": 2
}
